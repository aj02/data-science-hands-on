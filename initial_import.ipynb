{
 "cells": [
  {
   "cell_type": "code",
   "execution_count": 43,
   "metadata": {},
   "outputs": [],
   "source": [
    "from IPython.core.pylabtools import figsize\n",
    "\n",
    "def import_etl_libraries():\n",
    "    import numpy as np\n",
    "    import pandas as pd\n",
    "    import scipy\n",
    "    \n",
    "def import_plotting_libraries():\n",
    "    %matplotlib inline\n",
    "    import matplotlib\n",
    "    import matplotlib.pyplot as plt\n",
    "    matplotlib.rcParams['font.size'] = 16\n",
    "    matplotlib.rcParams['figure.figsize'] = (9, 9)\n",
    "    import seaborn as sns\n",
    "    \n",
    "def import_preprocessing_libraries():\n",
    "    # Splitting data into training/testing\n",
    "    from sklearn.model_selection import train_test_split\n",
    "    from sklearn.preprocessing import MinMaxScaler\n",
    "\n",
    "def import_sklearn_models():\n",
    "    # Standard ML Models for comparison\n",
    "    from sklearn.linear_model import LinearRegression\n",
    "    from sklearn.linear_model import ElasticNet\n",
    "    from sklearn.ensemble import RandomForestRegressor\n",
    "    from sklearn.ensemble import ExtraTreesRegressor\n",
    "    from sklearn.ensemble import GradientBoostingRegressor\n",
    "    from sklearn.svm import SVR\n",
    "def import_model_metric_libraries():    \n",
    "    # Metrics\n",
    "    from sklearn.metrics import mean_squared_error, mean_absolute_error, median_absolute_error\n",
    "def import_scipy_helper_functions():    \n",
    "    # Scipy helper functions\n",
    "    from scipy.stats import percentileofscore\n",
    "    from scipy import stats\n",
    "    \n",
    "def import_all():\n",
    "    import_etl_libraries()\n",
    "    import_plotting_libraries()\n",
    "    import_preprocessing_libraries()\n",
    "    import_sklearn_models()\n",
    "    import_model_metric_libraries()\n",
    "    import_scipy_helper_functions()"
   ]
  },
  {
   "cell_type": "code",
   "execution_count": 45,
   "metadata": {},
   "outputs": [],
   "source": [
    "import_all()"
   ]
  },
  {
   "cell_type": "code",
   "execution_count": null,
   "metadata": {},
   "outputs": [],
   "source": []
  },
  {
   "cell_type": "code",
   "execution_count": null,
   "metadata": {},
   "outputs": [],
   "source": []
  },
  {
   "cell_type": "code",
   "execution_count": null,
   "metadata": {},
   "outputs": [],
   "source": []
  },
  {
   "cell_type": "code",
   "execution_count": null,
   "metadata": {},
   "outputs": [],
   "source": []
  },
  {
   "cell_type": "code",
   "execution_count": null,
   "metadata": {},
   "outputs": [],
   "source": []
  }
 ],
 "metadata": {
  "kernelspec": {
   "display_name": "Python 3",
   "language": "python",
   "name": "python3"
  },
  "language_info": {
   "codemirror_mode": {
    "name": "ipython",
    "version": 3
   },
   "file_extension": ".py",
   "mimetype": "text/x-python",
   "name": "python",
   "nbconvert_exporter": "python",
   "pygments_lexer": "ipython3",
   "version": "3.6.5"
  }
 },
 "nbformat": 4,
 "nbformat_minor": 2
}
